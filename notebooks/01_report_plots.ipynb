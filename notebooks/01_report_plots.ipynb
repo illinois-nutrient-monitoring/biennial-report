{
 "cells": [
  {
   "cell_type": "markdown",
   "id": "8e3a4569-02a5-478c-81c5-c6acb935de40",
   "metadata": {
    "slideshow": {
     "slide_type": "slide"
    },
    "tags": []
   },
   "source": [
    "# Nitrate and Phosphorus Loads from Illinois Rivers\n",
    "To help enable reproducible cutting-edge science, data and workflows used in Illinois nutrient monitoring will be publically available. This notebook demonstrates the basic concepts of\n",
    "1. making all data available from the cloud in analysis ready formats;\n",
    "2. running notebooks locally or in the cloud to generate reports, run models, or create interactive web applets; and\n",
    "3. enabling anyone to share, run, and modify notebooks using only a web browser.\n",
    "\n",
    "[![Open In Colab](https://colab.research.google.com/assets/colab-badge.svg)](https://colab.research.google.com/github/illinois-nutrient-monitoring/biennial-report/blob/master/notebooks/01_report_plots.ipynb)"
   ]
  },
  {
   "cell_type": "markdown",
   "id": "3bbc2e06-4de0-4ca2-9bcc-ac061497e6b3",
   "metadata": {
    "slideshow": {
     "slide_type": "skip"
    },
    "tags": []
   },
   "source": [
    "## Environment Setup"
   ]
  },
  {
   "cell_type": "code",
   "execution_count": null,
   "id": "4347551c-a336-49cb-8926-f646aed75ffa",
   "metadata": {
    "slideshow": {
     "slide_type": "skip"
    },
    "tags": []
   },
   "outputs": [],
   "source": [
    "#%%capture\n",
    "#!pip install https://github.com/aleaf/Figures/archive/master.zip\n",
    "#!pip install git+https://github.com/illinois-nutrient-monitoring/biennial-report.git\n",
    "\n",
    "#!pip install -e /home/thodson/Desktop/Projects/illinois-nutrient-monitoring/biennial-report"
   ]
  },
  {
   "cell_type": "code",
   "execution_count": null,
   "id": "1577cedc-13c2-40f0-a00b-4af2aa8fb819",
   "metadata": {},
   "outputs": [],
   "source": [
    "%%capture\n",
    "import matplotlib.pyplot as plt\n",
    "from Figures import ReportFigures\n",
    "\n",
    "%matplotlib inline\n",
    "rf = ReportFigures()\n",
    "rf.set_style()\n",
    "\n",
    "# configure fonts for presentation\n",
    "import matplotlib.pyplot as plt"
   ]
  },
  {
   "cell_type": "code",
   "execution_count": null,
   "id": "15706452-1e91-47a6-b13c-fce59cacdb5d",
   "metadata": {
    "slideshow": {
     "slide_type": "skip"
    },
    "tags": []
   },
   "outputs": [],
   "source": [
    "# run for in-notebook presentation\n",
    "SMALL_SIZE = 10\n",
    "MEDIUM_SIZE = SMALL_SIZE + 2\n",
    "BIGGER_SIZE = MEDIUM_SIZE + 2\n",
    "\n",
    "plt.rc('font', size=SMALL_SIZE)          # controls default text sizes\n",
    "plt.rc('axes', titlesize=SMALL_SIZE)     # fontsize of the axes title\n",
    "plt.rc('axes', labelsize=MEDIUM_SIZE)    # fontsize of the x and y labels\n",
    "plt.rc('xtick', labelsize=SMALL_SIZE)    # fontsize of the tick labels\n",
    "plt.rc('ytick', labelsize=SMALL_SIZE)    # fontsize of the tick labels\n",
    "plt.rc('legend', fontsize=SMALL_SIZE)    # legend fontsize\n",
    "plt.rc('figure', titlesize=BIGGER_SIZE)  # fontsize of the figure title\n",
    "\n",
    "save_figures = True\n",
    "figure_count = 0\n",
    "# set figure dimensions\n",
    "fig_w = 7.16 #5.51181\n",
    "fig_h = 4.5"
   ]
  },
  {
   "cell_type": "code",
   "execution_count": null,
   "id": "7f2a051f-5ef8-4215-86ca-fe5f9cfe025d",
   "metadata": {
    "slideshow": {
     "slide_type": "skip"
    },
    "tags": []
   },
   "outputs": [],
   "source": [
    "# load libraries\n",
    "%load_ext autoreload\n",
    "%autoreload 2\n",
    "\n",
    "import pandas as pd\n",
    "import numpy as np\n",
    "import json\n",
    "import xarray as xr\n",
    "import pint_xarray\n",
    "from titlecase import titlecase\n",
    "\n",
    "import warnings\n",
    "warnings.filterwarnings(\"ignore\", message=\"the unit of the quantity is stripped when downcasting to ndarray\")\n",
    "\n",
    "# load helper functions\n",
    "from biennial_report.plot import *\n",
    "from biennial_report.loads import *"
   ]
  },
  {
   "cell_type": "markdown",
   "id": "c51af847-2f35-4b35-b320-e0e219bfa21a",
   "metadata": {},
   "source": [
    "### Configuration"
   ]
  },
  {
   "cell_type": "code",
   "execution_count": null,
   "id": "5dfe91c3-e85e-48b7-91e4-b41de07a6e93",
   "metadata": {},
   "outputs": [],
   "source": [
    "mass_unit = 'pound'\n",
    "area_unit = 'acre'\n",
    "flow_unit = 'cubic feet per second'\n",
    "nested = True #subtract nested gages\n",
    "\n",
    "## define study period\n",
    "baseline_years = np.arange(1980,1996+1)\n",
    "study_years = np.arange(2017,2021+1)"
   ]
  },
  {
   "cell_type": "markdown",
   "id": "d1eaa37e-9223-4119-9b6c-0e7b4f7a31b4",
   "metadata": {
    "tags": []
   },
   "source": [
    "## Load Datasets"
   ]
  },
  {
   "cell_type": "code",
   "execution_count": null,
   "id": "3a859292-4891-4126-b63e-fffd4e049719",
   "metadata": {},
   "outputs": [],
   "source": [
    "supergage_metadata = '../data/supergage_network.json'\n",
    "ambient_metadata = '../data/ambient_network.json'\n",
    "\n",
    "with open(supergage_metadata) as f:\n",
    "    supergage_network = json.load(f)\n",
    "    \n",
    "with open(ambient_metadata) as f:\n",
    "    ambient_network = json.load(f)\n",
    "\n",
    "supergage_ds = xr.load_dataset('../data/illinois_supergage_annual_loads_continuous.nc').pint.quantify()#.pint.to(units=mass_unit))\n",
    "ambient_ds = xr.load_dataset('../data/illinois_ambient_annual_loads_wrtdsk.nc').pint.quantify()#.pint.to(units=mass_unit)\n",
    "\n",
    "labels(supergage_network, nested=True)"
   ]
  },
  {
   "cell_type": "markdown",
   "id": "06d8fe52-f1ef-46f2-8d1f-dbbb648effdd",
   "metadata": {},
   "source": [
    "### Convert Units"
   ]
  },
  {
   "cell_type": "code",
   "execution_count": null,
   "id": "a6bae443-8508-4563-8909-b7d32493155f",
   "metadata": {},
   "outputs": [],
   "source": [
    "ambient_conversion = {}\n",
    "for varname, da in ambient_ds.data_vars.items():\n",
    "    if da.pint.units == 'kilogram':\n",
    "        ambient_conversion[varname] = mass_unit\n",
    "    elif da.pint.units == 'meter ** 3 / second':\n",
    "        ambient_conversion[varname] = flow_unit\n",
    "\n",
    "#ambient_conversion\n",
    "ambient_ds = ambient_ds.pint.to(ambient_conversion)\n",
    "\n",
    "supergage_ds = supergage_ds.pint.to({'nitrate nitrogen':mass_unit, 'total phosphorus':mass_unit})\n",
    "\n",
    "supergage_ds"
   ]
  },
  {
   "cell_type": "markdown",
   "id": "f54c52c9-d0f9-4360-868c-d700628f74b8",
   "metadata": {},
   "source": [
    "### Fill in missing data"
   ]
  },
  {
   "cell_type": "code",
   "execution_count": null,
   "id": "e28f3f9c-d28e-4af4-ae41-b3fb276ce7e3",
   "metadata": {},
   "outputs": [],
   "source": [
    "#Add rock at rockton\n",
    "rockton_id ='05437500'\n",
    "rockton = ambient_ds.sel(site=rockton_id)[['nitrate nitrogen', 'total phosphorus']]\n",
    "supergage_ds = xr.concat([supergage_ds, rockton], dim='site', join='inner')\n",
    "\n",
    "# TODO fill in missing years or other state-border stations"
   ]
  },
  {
   "cell_type": "markdown",
   "id": "f07dcb26-ff99-4e0c-9e79-043dc1e07c61",
   "metadata": {},
   "source": [
    "### Compute drainage areas"
   ]
  },
  {
   "cell_type": "code",
   "execution_count": null,
   "id": "f8a2418e-a8e9-42a8-acf1-ca827a4b5f5a",
   "metadata": {},
   "outputs": [],
   "source": [
    "from dataretrieval import nwis\n",
    "site_df, _ = nwis.get_info(sites=gages(ambient_network, nested=True))\n",
    "site_df = site_df[['site_no','dec_lat_va','dec_long_va','drain_area_va']]\n",
    "site_ds = site_df.rename({'site_no':'site'}, axis=1).set_index('site').to_xarray()\n",
    "site_ds = site_ds.pint.quantify({'drain_area_va':'square miles', 'dec_lat_va':'degrees', 'dec_long_va':'degrees'}).pint.to(drain_area_va=area_unit)\n",
    "\n",
    "network = compute_network_loads(site_ds, ambient_network, nested=nested)\n",
    "network"
   ]
  },
  {
   "cell_type": "markdown",
   "id": "a304a88d-5b8b-46e8-a9e4-27987ad986ec",
   "metadata": {},
   "source": [
    "### Compute loads from monitoring network"
   ]
  },
  {
   "cell_type": "code",
   "execution_count": null,
   "id": "2fe2933d-a5c5-4bd7-9847-365588c9e7c8",
   "metadata": {},
   "outputs": [],
   "source": [
    "# scale loads based on state's contributing drainage\n",
    "# nested=True, so subtract off Rock at Rockton\n",
    "supergage_loads = compute_network_loads(supergage_ds.dropna(dim='year'), supergage_network, nested=nested)\n",
    "\n",
    "ambient_loads = compute_network_loads(ambient_ds.sel(site=gages(ambient_network, nested=nested)),\n",
    "                                      ambient_network, nested=nested)\n",
    "\n",
    "ambient_loads = ambient_loads.where(ambient_loads.year.dt.year >= baseline_years[0]).dropna(dim='year', how='all') # awkward"
   ]
  },
  {
   "cell_type": "code",
   "execution_count": null,
   "id": "e39c0332-733c-4f66-802e-9acafb7e5c90",
   "metadata": {},
   "outputs": [],
   "source": [
    "## append drainage area\n",
    "#ambient_network = pd.DataFrame(ambient_network)\n",
    "#supergage_network = pd.DataFrame(supergage_network)\n",
    "#\n",
    "#from dataretrieval import nwis\n",
    "#\n",
    "#def get_site_info(ds):\n",
    "#    site_info, _ = nwis.get_info(sites=ds['site_no'].values.tolist())\n",
    "#    site_info = site_info[['site_no','drain_area_va']].rename({'drain_area_va':'drain_area'}, axis=1)\n",
    "#    site_info = site_info.set_index('site_no').to_xarray()\n",
    "#    site_info = site_info.pint.quantify(drain_area='square_miles')\n",
    "#    return site_info\n",
    "#\n",
    "#def append_site_info(ds):\n",
    "#    info = get_site_info(ds)\n",
    "#    return ds.merge(info)"
   ]
  },
  {
   "cell_type": "code",
   "execution_count": null,
   "id": "2710c0ce-c1ca-4e9e-a749-f70f51aaee4d",
   "metadata": {},
   "outputs": [],
   "source": [
    "# convert loads to percentages\n",
    "#ambient_total_load_p = ambient_loads.sum(dim='river')/ baseline_mean_load * 100 - 100\n",
    "#supergage_total_load_p = supergage_loads.sum(dim='river')/ baseline_mean_load * 100 - 100"
   ]
  },
  {
   "cell_type": "markdown",
   "id": "f2248d3a-ab19-42ef-bb26-1ae30ef06f61",
   "metadata": {},
   "source": [
    "## Methods\n",
    "Replicates methods from previous biennial reports:\n",
    "- baseline period: water years 1980–1996 \n",
    "- current period: water years 2017–2022\n",
    "- subtracts load for Rock River at Rockton\n",
    "- rescales other rivers based on their drainage area within the State\n",
    "\n",
    "but adds\n",
    "- continuous water quality data\n",
    "\n",
    "\n",
    "## Results\n",
    "### Statewide Nitrate Load"
   ]
  },
  {
   "cell_type": "code",
   "execution_count": null,
   "id": "a1871b32-f4b3-49bb-a394-863f403291c7",
   "metadata": {},
   "outputs": [],
   "source": [
    "supergage_total_yield = supergage_loads.sum(dim='river')/network['drain_area_va'].sum()\n",
    "ambient_total_yield = ambient_loads.sum(dim='river')/network['drain_area_va'].sum()\n",
    "\n",
    "\n",
    "baseline_mean_yield = ambient_total_yield.sel(year=ambient_loads.year.dt.year.isin(baseline_years)).mean()\n",
    "#supergage_total_yield"
   ]
  },
  {
   "cell_type": "code",
   "execution_count": null,
   "id": "fa37f4d2-ad07-4212-8291-4db933015fd1",
   "metadata": {},
   "outputs": [],
   "source": [
    "parameter='nitrate nitrogen'\n",
    "loc='upper left'\n",
    "\n",
    "fig, ax = plt.subplots(figsize=(fig_w, fig_h))\n",
    "\n",
    "\n",
    "running_average_plot(ds1=ambient_total_yield[parameter].assign_attrs({'label':'Illinois EPA Ambient'}),\n",
    "                     period1=baseline_years,\n",
    "                     period2=study_years,\n",
    "                     ds2=supergage_total_yield[parameter].assign_attrs({'label':'USGS Continuous'}), #comment this for ambient only\n",
    "                     loc=loc,\n",
    "                     ax=ax)\n",
    "\n",
    "ax2 = percentage_scale(baseline_mean_yield[parameter].values, ax)\n",
    "\n",
    "ax2.set_ylabel('[percentage above baseline]'.capitalize())\n",
    "text = ax.set_ylabel(f'{parameter}\\n[pounds per acre]'.capitalize())\n",
    "\n",
    "ax.tick_params(bottom=True, top=True, left=True, right=False)\n",
    "handles, labels = ax.get_legend_handles_labels()\n",
    "rf.legend(ax, handles, labels, bbox_to_anchor=(1.2, 0))\n",
    "\n",
    "fig.tight_layout()\n",
    "#str(figure_count).rjust(2,'0')\n",
    "\n",
    "if save_figures:\n",
    "    fig_str = str(figure_count).rjust(2,'0')\n",
    "    fig.savefig(f'../figures/{fig_str}_annual_{parameter}_load.png', dpi=150)\n",
    "    figure_count += 1 "
   ]
  },
  {
   "cell_type": "markdown",
   "id": "24934780-7d7d-418f-991e-9c9d59e59704",
   "metadata": {},
   "source": [
    "### Statewide Phosphorus Load"
   ]
  },
  {
   "cell_type": "code",
   "execution_count": null,
   "id": "3f2c6fea-c4dc-42c9-81af-26df48328391",
   "metadata": {},
   "outputs": [],
   "source": [
    "parameter='total phosphorus'\n",
    "loc='upper left'\n",
    "\n",
    "loc='upper left'\n",
    "\n",
    "fig, ax = plt.subplots(figsize=(fig_w, fig_h))\n",
    "\n",
    "\n",
    "running_average_plot(ds1=ambient_total_yield[parameter].assign_attrs({'label':'Illinois EPA Ambient'}),\n",
    "                     period1=baseline_years,\n",
    "                     period2=study_years,\n",
    "                     ds2=supergage_total_yield[parameter].assign_attrs({'label':'USGS Continuous'}), #comment this for ambient only\n",
    "                     loc=loc,\n",
    "                     ax=ax)\n",
    "\n",
    "ax2 = percentage_scale(baseline_mean_yield[parameter].values, ax)\n",
    "\n",
    "ax2.set_ylabel('[percentage above baseline]'.capitalize())\n",
    "text = ax.set_ylabel(f'{parameter}\\n[pounds per acre]'.capitalize())\n",
    "\n",
    "ax.tick_params(bottom=True, top=True, left=True, right=False)\n",
    "handles, labels = ax.get_legend_handles_labels()\n",
    "rf.legend(ax, handles, labels, bbox_to_anchor=(1.2, 0))\n",
    "\n",
    "fig.tight_layout()\n",
    "if save_figures:\n",
    "    fig_str = str(figure_count).rjust(2,'0')\n",
    "    fig.savefig(f'../figures/{fig_str}_annual_{parameter}_load.png', dpi=150)\n",
    "    figure_count += 1 "
   ]
  },
  {
   "cell_type": "markdown",
   "id": "bd6644b1-ddeb-4410-a873-8e2cc1913b42",
   "metadata": {},
   "source": [
    "### Breakdown by River Basin"
   ]
  },
  {
   "cell_type": "code",
   "execution_count": null,
   "id": "ab291a2f-03b2-4c3c-b208-d3b073cfcdb2",
   "metadata": {},
   "outputs": [],
   "source": [
    "baseline_loads = ambient_loads.sel(year=ambient_loads.year.dt.year.isin(baseline_years))\n",
    "current_loads = supergage_loads.sel(year=supergage_loads.year.dt.year.isin(study_years))\n",
    "\n",
    "current_loads.groupby('river').mean(dim='year').to_dataframe()"
   ]
  },
  {
   "cell_type": "code",
   "execution_count": null,
   "id": "6abe12a0-e151-46ce-bf32-7cc538077217",
   "metadata": {},
   "outputs": [],
   "source": [
    "# yield by river\n",
    "baseline_yields = baseline_loads/network['drain_area_va']\n",
    "current_yields = current_loads/network['drain_area_va']\n",
    "current_yields.groupby('river').mean(dim='year').to_dataframe()"
   ]
  },
  {
   "cell_type": "code",
   "execution_count": null,
   "id": "29382a55-e545-4659-89b2-6cae6b699e38",
   "metadata": {},
   "outputs": [],
   "source": [
    "#parameter = 'nitrate'\n",
    "#fig, ax = plt.subplots(figsize=(fig_w, fig_h))\n",
    "#\n",
    "#mean = plot_by_basin(current_loads[parameter],\n",
    "#              color='lightgreen',\n",
    "#              ax=ax)\n",
    "#\n",
    "#ax.set_xticklabels([ label.get_text().replace(' at ','\\nat ') for label in ax.get_xticklabels()], rotation=60, ha='right')\n",
    "#ax.set_xlabel('Location'.capitalize())\n",
    "##text = ax.set_ylabel(f'change in {parameter} load\\n[percentage above baseline]'.capitalize())\n",
    "#\n",
    "#fig.tight_layout()"
   ]
  },
  {
   "cell_type": "code",
   "execution_count": null,
   "id": "12f0000a-f002-48ae-a777-f26c29305e30",
   "metadata": {},
   "outputs": [],
   "source": [
    "parameter = 'nitrate nitrogen'\n",
    "fig, ax = plt.subplots(figsize=(fig_w, fig_h))\n",
    "\n",
    "plot_change_by_basin(baseline_loads[parameter], \n",
    "                     current_loads[parameter], \n",
    "                     color='lightgreen',\n",
    "                     mode='load',\n",
    "                     da=network['drain_area_va'],\n",
    "                     ax=ax)\n",
    "\n",
    "\n",
    "ax.set_xticklabels([ label.get_text().replace(' at ','\\nat ') for label in ax.get_xticklabels()], rotation=60, ha='right')\n",
    "ax.set_xlabel('Location'.capitalize())\n",
    "#text = ax.set_ylabel(f'change in {parameter} load\\n[percentage above baseline]'.capitalize())\n",
    "fig.tight_layout()\n",
    "\n",
    "#if save_figures:\n",
    "#    fig_str = str(figure_count).rjust(2,'0')\n",
    "#    fig.savefig(f'../figures/{fig_str}_{parameter}_basin_yield.png', dpi=150)\n",
    "#    figure_count += 1 "
   ]
  },
  {
   "cell_type": "code",
   "execution_count": null,
   "id": "e27302a1-fc92-4048-8dc3-21a641a98c55",
   "metadata": {},
   "outputs": [],
   "source": [
    "fig, ax = plt.subplots(figsize=(fig_w, fig_h))\n",
    "\n",
    "\n",
    "plot_change_by_basin(baseline_loads[parameter], \n",
    "                     current_loads[parameter], \n",
    "                     color='lightgreen',\n",
    "                     mode='yield',\n",
    "                     da=network['drain_area_va'],\n",
    "                     ax=ax)\n",
    "\n",
    "ax.set_xticklabels([ label.get_text().replace(' at ','\\nat ') for label in ax.get_xticklabels()], rotation=60, ha='right')\n",
    "text = ax.set_ylabel(f'Change in {parameter} load\\n[pounds per acre]'.capitalize())\n",
    "fig.tight_layout()\n",
    "\n",
    "if save_figures:\n",
    "    fig_str = str(figure_count).rjust(2,'0')\n",
    "    fig.savefig(f'../figures/{fig_str}_{parameter}_basin_load.png', dpi=150)\n",
    "    figure_count += 1 "
   ]
  },
  {
   "cell_type": "code",
   "execution_count": null,
   "id": "4334a98d-812b-40f4-a235-b66b52be6374",
   "metadata": {},
   "outputs": [],
   "source": [
    "parameter = 'total phosphorus'\n",
    "\n",
    "fig, ax = plt.subplots(figsize=(fig_w, fig_h))\n",
    "\n",
    "plot_change_by_basin(baseline_loads[parameter], \n",
    "                     current_loads[parameter], \n",
    "                     color='lavender',\n",
    "                     mode='load',\n",
    "                     da=network['drain_area_va'],\n",
    "                     ax=ax)\n",
    "\n",
    "ax.set_xticklabels([ label.get_text().replace(' at ','\\nat ') for label in ax.get_xticklabels()], rotation=60, ha='right')\n",
    "#text = ax.set_ylabel(f'Change in {parameter} load\\n[percentage above baseline]'.capitalize())\n",
    "fig.tight_layout()\n",
    "\n",
    "if save_figures:\n",
    "    fig_str = str(figure_count).rjust(2,'0')\n",
    "    fig.savefig(f'../figures/{fig_str}_{parameter}_basin_load.png', dpi=150)\n",
    "    figure_count += 1 "
   ]
  },
  {
   "cell_type": "code",
   "execution_count": null,
   "id": "feceba5c-4b75-4855-8ed4-f8bea3091b24",
   "metadata": {},
   "outputs": [],
   "source": [
    "fig, ax = plt.subplots(figsize=(fig_w, fig_h))\n",
    "\n",
    "plot_change_by_basin(baseline_loads[parameter], \n",
    "                     current_loads[parameter], \n",
    "                     color='lavender',\n",
    "                     mode='yield',\n",
    "                     da=network['drain_area_va'],\n",
    "                     ax=ax)\n",
    "\n",
    "ax.set_xticklabels([ label.get_text().replace(' at ','\\nat ') for label in ax.get_xticklabels()], rotation=60, ha='right')\n",
    "text = ax.set_ylabel(f'Change in {parameter} yield\\n[pounds per acre]'.capitalize())\n",
    "fig.tight_layout()\n",
    "\n",
    "\n",
    "if save_figures:\n",
    "    fig_str = str(figure_count).rjust(2,'0')\n",
    "    fig.savefig(f'../figures/{fig_str}_{parameter}_basin_yield.png', dpi=150)\n",
    "    figure_count += 1 "
   ]
  },
  {
   "cell_type": "markdown",
   "id": "2b0d28f1-787b-49b1-bbf5-5936a7161cc3",
   "metadata": {},
   "source": [
    "## Streamflow\n",
    "Download streamflow data from NWIS (U.S. Geological Survey, 2022)"
   ]
  },
  {
   "cell_type": "code",
   "execution_count": null,
   "id": "15c38c38-6139-4b1f-955a-5da255f68f40",
   "metadata": {},
   "outputs": [],
   "source": [
    "# download flow data \n",
    "from dataretrieval import nwis\n",
    "# begin by downloading flow datga\n",
    "ambient_gages = gages(ambient_network)\n",
    "supergage_gages = gages(supergage_network)\n",
    "\n",
    "\n",
    "start = ambient_loads.year.dt.strftime('%Y')[0] + '-10-01'\n",
    "start = str(start.values)\n",
    "end = '2021-09-30'\n",
    "\n",
    "df, _ = nwis.get_dv(sites=ambient_gages, start=start, end=end, parameterCd='00060')\n",
    "df = df.rename({'00060_Mean':'mean flow [cfs]'}, axis=1).drop('00060_Mean_cd', axis=1)\n",
    "\n",
    "#remove timezone because xarray doesn't know how to handle it yet (bug)\n",
    "df = df.reset_index()\n",
    "df['datetime'] = df['datetime'].values\n",
    "df = df.set_index(['site_no','datetime'])\n",
    "\n",
    "flow_ds = df.to_xarray()\n",
    "flow_ds['water_year'] = flow_ds.datetime.dt.year.where(flow_ds.datetime.dt.month < 10, flow_ds.datetime.dt.year + 1)\n",
    "\n",
    "# compute mean daily flow for each WY\n",
    "# TODO make correction for missing periods\n",
    "flow_wy = flow_ds.groupby('water_year').mean()#.pint.quantify({'flow': 'cfs'})\n",
    "flow_wy['water_year'] = pd.to_datetime(flow_wy['water_year'], format='%Y').values\n",
    "flow_wy = flow_wy.rename({'water_year':'year'})\n",
    "\n",
    "\n",
    "# scale to ambient sites\n",
    "ambient_streamflow = compute_network_loads(flow_wy, ambient_network, nested=False)"
   ]
  },
  {
   "cell_type": "code",
   "execution_count": null,
   "id": "123c6c22-14f9-475a-9fcb-01890764518f",
   "metadata": {},
   "outputs": [],
   "source": [
    "# plot streamflow\n",
    "# plot streamflow\n",
    "mean_flow = ambient_loads['mean flow']\n",
    "statewide_streamflow = mean_flow.groupby('year').sum(dim='river')\n",
    "baseline_streamflow = statewide_streamflow.sel(year=ambient_loads.year.dt.year.isin(baseline_years)).mean()\n",
    "\n",
    "#statewide_streamflow_p = statewide_streamflow / baseline_streamflow * 100 - 100\n",
    "\n",
    "fig, ax = plt.subplots(figsize=(fig_w, fig_h))\n",
    "\n",
    "running_average_plot(ds1=statewide_streamflow,\n",
    "                     period1=baseline_years,\n",
    "                     period2=study_years,\n",
    "                     loc='upper left',\n",
    "                     ax=ax)\n",
    "\n",
    "\n",
    "ax.tick_params(bottom=True, top=True, left=True, right=True)\n",
    "handles, labels = ax.get_legend_handles_labels()\n",
    "rf.legend(ax, handles, labels, bbox_to_anchor=(1.15, 0))\n",
    "\n",
    "text = ax.set_ylabel(f'statewide streamflow\\n[percentage above baseline]'.capitalize())\n",
    "fig.tight_layout()\n",
    "\n",
    "if save_figures:\n",
    "    fig_str = str(figure_count).rjust(2,'0')\n",
    "    fig.savefig(f'../figures/{fig_str}_annual_streamflow.png', dpi=150)\n",
    "    figure_count += 1 "
   ]
  },
  {
   "cell_type": "markdown",
   "id": "2da21ffc-22c9-42d1-a644-3ec875dd8a54",
   "metadata": {},
   "source": [
    "Timeseries of annual streamflow (OLD)"
   ]
  },
  {
   "cell_type": "code",
   "execution_count": null,
   "id": "8bf96b47-ffee-476c-8fc8-a6191816d8d5",
   "metadata": {},
   "outputs": [],
   "source": [
    "# plot annual streamflow timeseries\n",
    "parameter='mean flow [cfs]'\n",
    "statewide_streamflow = ambient_streamflow[parameter].groupby('year').sum(dim='river')\n",
    "baseline_streamflow = statewide_streamflow.sel(year=ambient_loads.year.dt.year.isin(baseline_years)).mean()\n",
    "\n",
    "statewide_streamflow_p = statewide_streamflow / baseline_streamflow * 100 - 100\n",
    "\n",
    "fig, ax = plt.subplots(figsize=(fig_w, fig_h))\n",
    "\n",
    "running_average_plot(ds1=statewide_streamflow_p.assign_attrs({'label':'Illinois EPA Ambient'}),\n",
    "                     period1=baseline_years,\n",
    "                     period2=study_years,\n",
    "                     loc='upper left',\n",
    "                     ax=ax)\n",
    "\n",
    "ax.tick_params(bottom=True, top=True, left=True, right=True)\n",
    "handles, labels = ax.get_legend_handles_labels()\n",
    "rf.legend(ax, handles, labels, bbox_to_anchor=(1.15, 0))\n",
    "\n",
    "text = ax.set_ylabel(f'statewide streamflow\\n[percentage above baseline]'.capitalize())\n",
    "fig.tight_layout()\n",
    "\n",
    "if save_figures:\n",
    "    fig_str = str(figure_count).rjust(2,'0')\n",
    "    fig.savefig(f'../figures/{fig_str}_annual_streamflow.png', dpi=150)\n",
    "    figure_count += 1 "
   ]
  },
  {
   "cell_type": "markdown",
   "id": "2a3c4c79-acf7-4f20-8f31-97ee0c840939",
   "metadata": {},
   "source": [
    "Change in streamflow yields by basin."
   ]
  },
  {
   "cell_type": "code",
   "execution_count": null,
   "id": "4715c0c9-663d-4ccf-90a4-8e475a70e35a",
   "metadata": {},
   "outputs": [],
   "source": [
    "# select streamflow for baseline and current timeperiods\n",
    "baseline_streamflow = ambient_streamflow.sel(year=ambient_streamflow.year.dt.year.isin(baseline_years))\n",
    "current_streamflow = ambient_streamflow.sel(year=ambient_streamflow.year.dt.year.isin(study_years))\n",
    "\n",
    "fig, ax = plt.subplots(figsize=(fig_w, fig_h))\n",
    "\n",
    "plot_change_by_basin(baseline_streamflow[parameter], \n",
    "                     current_streamflow[parameter], \n",
    "                     color='powderblue',\n",
    "                     ax=ax,\n",
    "                     statewide=False)\n",
    "\n",
    "ax.set_xticklabels([ label.get_text().replace(' at ','\\nat ') for label in ax.get_xticklabels()], rotation=60, ha='right')\n",
    "text = ax.set_ylabel(f'Change in streamflow\\n[percentage above baseline]'.capitalize())\n",
    "ax.set_xlabel('Location'.capitalize())\n",
    "fig.tight_layout()\n",
    "\n",
    "if save_figures:\n",
    "    fig_str = str(figure_count).rjust(2,'0')\n",
    "    fig.savefig(f'../figures/{fig_str}_streamflow_basin.png', dpi=150)\n",
    "    figure_count += 1 "
   ]
  },
  {
   "cell_type": "markdown",
   "id": "08871a4d-7e6f-40bd-96d3-46378de68b42",
   "metadata": {},
   "source": [
    "## Flow-adjusted loads\n",
    "Flow-adjusted nitrate loads by basin."
   ]
  },
  {
   "cell_type": "code",
   "execution_count": null,
   "id": "b8c3cc19-f5c4-43d9-8452-71cb459193ee",
   "metadata": {
    "tags": []
   },
   "outputs": [],
   "source": [
    "parameter = 'nitrate'\n",
    "fig, ax = plt.subplots(figsize=(fig_w, fig_h))\n",
    "\n",
    "total_streamflow = ambient_streamflow.sum(dim='river')['mean flow [cfs]']\n",
    "\n",
    "plot_change_by_basin(baseline_loads[parameter] / total_streamflow, \n",
    "                     current_loads[parameter] / total_streamflow, \n",
    "                     color='lightgreen', \n",
    "                     ax=ax, \n",
    "                     statewide=False)\n",
    "\n",
    "ax.set_xticklabels([ label.get_text().replace(' at ','\\nat ') for label in ax.get_xticklabels()], rotation=60, ha='right')\n",
    "\n",
    "text = ax.set_ylabel(f'Change in flow-adjusted {parameter} load\\n[percentage above baseline]'.capitalize())\n",
    "ax.set_xlabel('Location'.capitalize())\n",
    "fig.tight_layout()\n",
    "\n",
    "if save_figures:\n",
    "    fig_str = str(figure_count).rjust(2,'0')\n",
    "    fig.savefig(f'../figures/{fig_str}_{parameter}_basin_fa_yield.png', dpi=150)\n",
    "    figure_count += 1 "
   ]
  },
  {
   "cell_type": "markdown",
   "id": "ad6b4d47-37bc-4769-8565-39216bb32af2",
   "metadata": {},
   "source": [
    "Flow-adjusted phosphorus load by basin"
   ]
  },
  {
   "cell_type": "code",
   "execution_count": null,
   "id": "63271d66-8991-4cb6-b77f-55f47a19b31a",
   "metadata": {},
   "outputs": [],
   "source": [
    "parameter = 'phosphorus'\n",
    "fig, ax = plt.subplots(figsize=(fig_w, fig_h))\n",
    "\n",
    "plot_change_by_basin(baseline_loads[parameter] / total_streamflow, \n",
    "                     current_loads[parameter] / total_streamflow, \n",
    "                     color='lavender', \n",
    "                     ax=ax, \n",
    "                     statewide=False)\n",
    "\n",
    "ax.set_xticklabels([ label.get_text().replace(' at ','\\nat ') for label in ax.get_xticklabels()], rotation=60, ha='right')\n",
    "text = ax.set_ylabel(f'Change in flow-adjusted {parameter} load\\n[percentage above baseline]'.capitalize())\n",
    "ax.set_xlabel('Location'.capitalize())\n",
    "fig.tight_layout()\n",
    "\n",
    "if save_figures:\n",
    "    fig_str = str(figure_count).rjust(2,'0')\n",
    "    fig.savefig(f'../figures/{fig_str}_{parameter}_basin_fa_yield.png', dpi=150)\n",
    "    figure_count += 1 "
   ]
  },
  {
   "cell_type": "markdown",
   "id": "4a055418-e6a2-4ce8-8b39-88c62db230d0",
   "metadata": {},
   "source": [
    "## Summary\n",
    "1. Nitrate load increased 10%, primarily from the Rock River\n",
    "1. Phosphorus load increased 30%, primarily from the Illinois, Kaskaskia, and Little Wabash Rivers\n",
    "1. Streamflow increased 30% statewide\n",
    "1. Adjusting for streamflow, nitrate loads declined 10%\n",
    "1. Adjusting for streamflow, phosphorus is approximately at the baseline load\n",
    "\n",
    "\n",
    "## References\n",
    "U.S. Geological Survey, 2022, National Water Information System data available on the World Wide Web (USGS Water Data for the Nation), accessed [July 25, 2022], at URL [http://waterdata.usgs.gov/nwis/]."
   ]
  },
  {
   "cell_type": "code",
   "execution_count": null,
   "id": "69320e5f-1676-4141-b917-a492bfe49efa",
   "metadata": {},
   "outputs": [],
   "source": []
  }
 ],
 "metadata": {
  "kernelspec": {
   "display_name": "nmc",
   "language": "python",
   "name": "nmc"
  },
  "language_info": {
   "codemirror_mode": {
    "name": "ipython",
    "version": 3
   },
   "file_extension": ".py",
   "mimetype": "text/x-python",
   "name": "python",
   "nbconvert_exporter": "python",
   "pygments_lexer": "ipython3",
   "version": "3.10.6"
  },
  "toc-showmarkdowntxt": false,
  "toc-showtags": false
 },
 "nbformat": 4,
 "nbformat_minor": 5
}
