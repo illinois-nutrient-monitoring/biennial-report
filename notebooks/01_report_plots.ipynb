{
 "cells": [
  {
   "cell_type": "markdown",
   "id": "8e3a4569-02a5-478c-81c5-c6acb935de40",
   "metadata": {
    "slideshow": {
     "slide_type": "slide"
    },
    "tags": []
   },
   "source": [
    "<header style=\"font-family:Arial Narrow;\">\n",
    "    <br>\n",
    "    <aside style=\"float:left\">\n",
    "        <a href=\"https://www.usgs.gov/centers/cm-water\">\n",
    "            <img src=\"https://upload.wikimedia.org/wikipedia/commons/0/08/USGS_logo.png\" alt=\"USGS\" style=\"height: 80px;\">\n",
    "        </a>\n",
    "    </aside>\n",
    "    <aside style=\"float:right\">\n",
    "        <a href=\"https://www2.illinois.gov/epa/Pages/default.aspx\"><img src=\"https://www2.illinois.gov/epa/Style%20Library/SOISierra/Images/SiteLogo.png\" alt=\"Illinois EPA\"  style=\"height: 80px;\"></a>\n",
    "    </aside>\n",
    "    \n",
    "   \n",
    "    <div style=\"clear:both;\">\n",
    "        <hr style=\"background-color:black;\">\n",
    "        <h1 style=\"font-weight:bold; font-size:26pt\" property=\"headline\">Nitrate and Phosphorus Loads from Illinois Rivers</h1>\n",
    "        <h2 style=\"font-weight:bold\" property=\"alternativeHeadline\">Water Year 2021 Update</h2>\n",
    "        <address>\n",
    "            <a property=\"author\">Timothy O. Hodson<sup>1</sup></a>\n",
    "            <br />  <sup>1</sup><a>U.S. Geological Survey Central Midwest Water Science Center</a>\n",
    "        </address>\n",
    " \n",
    "   </div>\n",
    "   <br>\n",
    "</header>\n",
    "\n",
    "To help enable reproducible cutting-edge science, USGS will work to establish a community testbed for sharing data and workflows used in Illinois nutrient monitoring. This notebook demonstrates the basic concepts of\n",
    "1. making all data available from the cloud in analysis ready formats;\n",
    "2. running notebooks locally or in the cloud to generate reports, run models, or create interactive web applets; and\n",
    "3. enabling anyone to share, run, and modify notebooks using only a web browser.\n",
    "\n",
    "[![Open In Colab](https://colab.research.google.com/assets/colab-badge.svg)](https://colab.research.google.com/github/illinois-nutrient-monitoring/biennial-report/blob/master/notebooks/01_report_plots.ipynb)  \n"
   ]
  },
  {
   "cell_type": "markdown",
   "id": "3bbc2e06-4de0-4ca2-9bcc-ac061497e6b3",
   "metadata": {
    "slideshow": {
     "slide_type": "skip"
    },
    "tags": []
   },
   "source": [
    "## Environment Setup"
   ]
  },
  {
   "cell_type": "code",
   "execution_count": null,
   "id": "4347551c-a336-49cb-8926-f646aed75ffa",
   "metadata": {
    "slideshow": {
     "slide_type": "skip"
    },
    "tags": []
   },
   "outputs": [],
   "source": [
    "%%capture\n",
    "!pip install https://github.com/aleaf/Figures/archive/master.zip\n",
    "!pip install git+https://github.com/illinois-nutrient-monitoring/biennial-report.git\n",
    "#!pip install titlecase\n",
    "    \n",
    "import matplotlib.pyplot as plt\n",
    "from Figures import ReportFigures\n",
    "\n",
    "%matplotlib inline\n",
    "rf = ReportFigures()\n",
    "rf.set_style()\n",
    "\n",
    "# configure fonts for presentation\n",
    "import matplotlib.pyplot as plt\n",
    "\n",
    "\n",
    "fig_w = 5.51181\n",
    "fig_w = 7.16\n",
    "fig_h = 5"
   ]
  },
  {
   "cell_type": "code",
   "execution_count": null,
   "id": "15706452-1e91-47a6-b13c-fce59cacdb5d",
   "metadata": {
    "slideshow": {
     "slide_type": "skip"
    },
    "tags": []
   },
   "outputs": [],
   "source": [
    "# run for in-notebook presentation\n",
    "SMALL_SIZE = 10\n",
    "MEDIUM_SIZE = SMALL_SIZE + 2\n",
    "BIGGER_SIZE = MEDIUM_SIZE + 2\n",
    "\n",
    "plt.rc('font', size=SMALL_SIZE)          # controls default text sizes\n",
    "plt.rc('axes', titlesize=SMALL_SIZE)     # fontsize of the axes title\n",
    "plt.rc('axes', labelsize=MEDIUM_SIZE)    # fontsize of the x and y labels\n",
    "plt.rc('xtick', labelsize=SMALL_SIZE)    # fontsize of the tick labels\n",
    "plt.rc('ytick', labelsize=SMALL_SIZE)    # fontsize of the tick labels\n",
    "plt.rc('legend', fontsize=SMALL_SIZE)    # legend fontsize\n",
    "plt.rc('figure', titlesize=BIGGER_SIZE)  # fontsize of the figure title\n",
    "\n",
    "save_figures = True\n",
    "figure_count = 0\n",
    "# set figure dimensions\n",
    "#fig_w = 10\n",
    "#fig_h = 8"
   ]
  },
  {
   "cell_type": "code",
   "execution_count": null,
   "id": "7f2a051f-5ef8-4215-86ca-fe5f9cfe025d",
   "metadata": {
    "slideshow": {
     "slide_type": "skip"
    },
    "tags": []
   },
   "outputs": [],
   "source": [
    "# load libraries\n",
    "%load_ext autoreload\n",
    "%autoreload 2\n",
    "\n",
    "import pandas as pd\n",
    "import numpy as np\n",
    "import json\n",
    "import xarray as xr\n",
    "import pint_xarray\n",
    "from titlecase import titlecase\n",
    "\n",
    "import warnings\n",
    "warnings.filterwarnings(\"ignore\", message=\"the unit of the quantity is stripped when downcasting to ndarray\")\n",
    "\n",
    "# load helper functions\n",
    "from biennial_report.plot import *\n",
    "from biennial_report.loads import *"
   ]
  },
  {
   "cell_type": "markdown",
   "id": "d1eaa37e-9223-4119-9b6c-0e7b4f7a31b4",
   "metadata": {
    "tags": []
   },
   "source": [
    "## Load Datasets"
   ]
  },
  {
   "cell_type": "code",
   "execution_count": null,
   "id": "a3a7a49e-cbbb-4fd9-8909-194c086f4e9b",
   "metadata": {},
   "outputs": [],
   "source": [
    "supergage_metadata = '../data/supergage_network.json'\n",
    "ambient_metadata = '../data/ambient_network.json'\n",
    "\n",
    "with open(supergage_metadata) as f:\n",
    "    supergage_network = json.load(f)\n",
    "    \n",
    "with open(ambient_metadata) as f:\n",
    "    ambient_network = json.load(f)\n",
    "\n",
    "supergage_ds = xr.load_dataset('../data/supergage_annual_loads.netcdf')\n",
    "ambient_ds = xr.load_dataset('../data/ambient_wrtdsk_annual_loads.netcdf')\n",
    "\n",
    "labels(ambient_network)"
   ]
  },
  {
   "cell_type": "markdown",
   "id": "a304a88d-5b8b-46e8-a9e4-27987ad986ec",
   "metadata": {},
   "source": [
    "Compute loads from monitoring network"
   ]
  },
  {
   "cell_type": "code",
   "execution_count": null,
   "id": "2fe2933d-a5c5-4bd7-9847-365588c9e7c8",
   "metadata": {},
   "outputs": [],
   "source": [
    "# define study period\n",
    "baseline_years = np.arange(1984,1996+1)\n",
    "study_years = np.arange(2017,2021+1)\n",
    "\n",
    "# scale loads based on state's contributing drainage\n",
    "# nested=False, so don't subtract off Rock at Rockton\n",
    "supergage_loads = compute_network_loads(supergage_ds.dropna(dim='year'), supergage_network, nested=False)\n",
    "\n",
    "ambient_loads = compute_network_loads(ambient_ds.sel(site_no=gages(ambient_network)).dropna(dim='year'),\n",
    "                                      ambient_network, nested=False)\n",
    "\n",
    "# compute baseline mean annual load\n",
    "baseline_mean_load = ambient_loads.sel(river=labels(ambient_network)).sum(dim='river').sel(year=ambient_loads.year.dt.year.isin(baseline_years)).mean()\n",
    "\n",
    "# convert loads to percentages\n",
    "ambient_total_load_p = ambient_loads.sum(dim='river')/ baseline_mean_load * 100 - 100\n",
    "supergage_total_load_p = supergage_loads.sum(dim='river')/ baseline_mean_load * 100 - 100"
   ]
  },
  {
   "cell_type": "markdown",
   "id": "f2248d3a-ab19-42ef-bb26-1ae30ef06f61",
   "metadata": {},
   "source": [
    "## Methods\n",
    "Replicates methods from previous biennial reports, except\n",
    "- baseline period: water years 1984–1996 \n",
    "- current period: water years 2017–2022\n",
    "- no subtraction for Rock River (yet)\n",
    "- incorporation of continuous water quality data\n",
    "\n",
    "\n",
    "## Results\n",
    "### Statewide Nitrate Load"
   ]
  },
  {
   "cell_type": "code",
   "execution_count": null,
   "id": "4150ad6b-4bb0-4a41-880e-4c7943669e5e",
   "metadata": {},
   "outputs": [],
   "source": [
    "\n",
    "parameter='nitrate'\n",
    "loc='upper right'\n",
    "\n",
    "fig, ax = plt.subplots(figsize=(fig_w, fig_h))\n",
    "\n",
    "\n",
    "running_average_plot(ds1=ambient_total_load_p[parameter].assign_attrs({'label':'Ambient'}),\n",
    "                     period1=baseline_years,\n",
    "                     period2=study_years,\n",
    "                     ds2=supergage_total_load_p[parameter].assign_attrs({'label':'Continuous'}), #comment this for ambient only\n",
    "                     loc=loc,\n",
    "                     ax=ax)\n",
    "\n",
    "text = ax.set_ylabel(f'{parameter} load \\n[percentage above baseline]'.capitalize())\n",
    "\n",
    "handles, labels = ax.get_legend_handles_labels()\n",
    "rf.legend(ax, handles, labels, bbox_to_anchor=(1.1, 0))\n",
    "\n",
    "fig.tight_layout()\n",
    "\n",
    "if save_figures:\n",
    "    fig_str = str(figure_count).rjust(2,'0')\n",
    "    fig.savefig(f'../figures/{fig_str}_annual_{parameter}_load.png', dpi=150)\n",
    "    figure_count += 1 "
   ]
  },
  {
   "cell_type": "markdown",
   "id": "24934780-7d7d-418f-991e-9c9d59e59704",
   "metadata": {},
   "source": [
    "### Statewide Phosphorus Load"
   ]
  },
  {
   "cell_type": "code",
   "execution_count": null,
   "id": "3f2c6fea-c4dc-42c9-81af-26df48328391",
   "metadata": {},
   "outputs": [],
   "source": [
    "parameter='phosphorus'\n",
    "loc='upper left'\n",
    "\n",
    "fig, ax = plt.subplots(figsize=(fig_w, fig_h))\n",
    "\n",
    "running_average_plot(ds1=ambient_total_load_p[parameter].assign_attrs({'label':'Ambient'}),\n",
    "                     period1=baseline_years,\n",
    "                     period2=study_years,\n",
    "                     ds2=supergage_total_load_p[parameter].assign_attrs({'label':'Continuous'}), #comment this for ambient only\n",
    "                     loc=loc,\n",
    "                     ax=ax)\n",
    "\n",
    "handles, labels = ax.get_legend_handles_labels()\n",
    "rf.legend(ax, handles, labels, bbox_to_anchor=(1.1, 0))\n",
    "\n",
    "text = ax.set_ylabel(f'{parameter} load \\n[percentage above baseline]'.capitalize())\n",
    "fig.tight_layout()\n",
    "if save_figures:\n",
    "    fig_str = str(figure_count).rjust(2,'0')\n",
    "    fig.savefig(f'../figures/{fig_str}_annual_{parameter}_load.png', dpi=150)\n",
    "    figure_count += 1 "
   ]
  },
  {
   "cell_type": "markdown",
   "id": "bd6644b1-ddeb-4410-a873-8e2cc1913b42",
   "metadata": {},
   "source": [
    "### Breakdown by River Basin"
   ]
  },
  {
   "cell_type": "code",
   "execution_count": null,
   "id": "ab291a2f-03b2-4c3c-b208-d3b073cfcdb2",
   "metadata": {},
   "outputs": [],
   "source": [
    "baseline_loads = ambient_loads.sel(year=ambient_loads.year.dt.year.isin(baseline_years))\n",
    "current_loads = supergage_loads.sel(year=supergage_loads.year.dt.year.isin(study_years))\n",
    "\n",
    "current_loads.groupby('river').mean(dim='year').to_dataframe()"
   ]
  },
  {
   "cell_type": "code",
   "execution_count": null,
   "id": "12f0000a-f002-48ae-a777-f26c29305e30",
   "metadata": {},
   "outputs": [],
   "source": [
    "parameter = 'nitrate'\n",
    "\n",
    "fig, ax = plt.subplots(figsize=(fig_w, fig_h))\n",
    "\n",
    "plot_change_by_basin(baseline_loads[parameter], \n",
    "                     current_loads[parameter], \n",
    "                     color='lightgreen',\n",
    "                     ax=ax,\n",
    "                     statewide=False)\n",
    "\n",
    "ax.set_xticklabels([ label.get_text().replace(' at ','\\nat ') for label in ax.get_xticklabels()], rotation=60, ha='right')\n",
    "ax.set_xlabel('Location'.capitalize())\n",
    "text = ax.set_ylabel(f'change in {parameter} load\\n[percentage above baseline]'.capitalize())\n",
    "fig.tight_layout()\n",
    "\n",
    "if save_figures:\n",
    "    fig_str = str(figure_count).rjust(2,'0')\n",
    "    fig.savefig(f'../figures/{fig_str}_{parameter}_basin_yield.png', dpi=150)\n",
    "    figure_count += 1 "
   ]
  },
  {
   "cell_type": "code",
   "execution_count": null,
   "id": "e27302a1-fc92-4048-8dc3-21a641a98c55",
   "metadata": {},
   "outputs": [],
   "source": [
    "fig, ax = plt.subplots(figsize=(fig_w, fig_h))\n",
    "\n",
    "plot_change_by_basin(baseline_loads[parameter], \n",
    "                     current_loads[parameter], \n",
    "                     color='lightgreen',\n",
    "                     ax=ax,\n",
    "                     statewide=True)\n",
    "\n",
    "ax.set_xticklabels([ label.get_text().replace(' at ','\\nat ') for label in ax.get_xticklabels()], rotation=60, ha='right')\n",
    "ax.set_xlabel('Monitoring location'.capitalize())\n",
    "text = ax.set_ylabel(f'change in {parameter} load\\n[percentage of baseline]'.capitalize())\n",
    "fig.tight_layout()\n",
    "\n",
    "if save_figures:\n",
    "    fig_str = str(figure_count).rjust(2,'0')\n",
    "    fig.savefig(f'../figures/{fig_str}_{parameter}_basin_load.png', dpi=150)\n",
    "    figure_count += 1 "
   ]
  },
  {
   "cell_type": "code",
   "execution_count": null,
   "id": "4334a98d-812b-40f4-a235-b66b52be6374",
   "metadata": {},
   "outputs": [],
   "source": [
    "parameter = 'phosphorus'\n",
    "\n",
    "fig, ax = plt.subplots(figsize=(fig_w, fig_h))\n",
    "\n",
    "plot_change_by_basin(baseline_loads[parameter], \n",
    "                     current_loads[parameter], \n",
    "                     color='lavender',\n",
    "                     ax=ax,\n",
    "                     statewide=False)\n",
    "\n",
    "ax.set_xticklabels([ label.get_text().replace(' at ','\\nat ') for label in ax.get_xticklabels()], rotation=60, ha='right')\n",
    "ax.set_xlabel('Location'.capitalize())\n",
    "text = ax.set_ylabel(f'change in {parameter} load\\n[percentage above baseline]'.capitalize())\n",
    "fig.tight_layout()\n",
    "\n",
    "if save_figures:\n",
    "    fig_str = str(figure_count).rjust(2,'0')\n",
    "    fig.savefig(f'../figures/{fig_str}_{parameter}_basin_yield.png', dpi=150)\n",
    "    figure_count += 1 "
   ]
  },
  {
   "cell_type": "code",
   "execution_count": null,
   "id": "feceba5c-4b75-4855-8ed4-f8bea3091b24",
   "metadata": {},
   "outputs": [],
   "source": [
    "fig, ax = plt.subplots(figsize=(fig_w, fig_h))\n",
    "\n",
    "plot_change_by_basin(baseline_loads[parameter], \n",
    "                     current_loads[parameter], \n",
    "                     color='lavender',\n",
    "                     ax=ax,\n",
    "                     statewide=True)\n",
    "\n",
    "ax.set_xticklabels([ label.get_text().replace(' at ','\\nat ') for label in ax.get_xticklabels()], rotation=60, ha='right')\n",
    "ax.set_xlabel('Location'.capitalize())\n",
    "text = ax.set_ylabel(f'change in {parameter} load\\n[percentage of baseline]'.capitalize())\n",
    "fig.tight_layout()\n",
    "\n",
    "if save_figures:\n",
    "    fig_str = str(figure_count).rjust(2,'0')\n",
    "    fig.savefig(f'../figures/{fig_str}_{parameter}_basin_load.png', dpi=150)\n",
    "    figure_count += 1 "
   ]
  },
  {
   "cell_type": "markdown",
   "id": "2b0d28f1-787b-49b1-bbf5-5936a7161cc3",
   "metadata": {},
   "source": [
    "## Streamflow\n",
    "Download streamflow data from NWIS (U.S. Geological Survey, 2022)"
   ]
  },
  {
   "cell_type": "code",
   "execution_count": null,
   "id": "15c38c38-6139-4b1f-955a-5da255f68f40",
   "metadata": {},
   "outputs": [],
   "source": [
    "# download flow data \n",
    "from dataretrieval import nwis\n",
    "# begin by downloading flow datga\n",
    "ambient_gages = gages(ambient_network)\n",
    "supergage_gages = gages(supergage_network)\n",
    "\n",
    "\n",
    "start = ambient_loads.year.dt.strftime('%Y')[0] + '-10-01'\n",
    "start = str(start.values)\n",
    "end = '2021-09-30'\n",
    "\n",
    "df, _ = nwis.get_dv(sites=ambient_gages, start=start, end=end, parameterCd='00060')\n",
    "df = df.rename({'00060_Mean':'mean flow [cfs]'}, axis=1).drop('00060_Mean_cd', axis=1)\n",
    "\n",
    "#remove timezone because xarray doesn't know how to handle it yet (bug)\n",
    "df = df.reset_index()\n",
    "df['datetime'] = df['datetime'].values\n",
    "df = df.set_index(['site_no','datetime'])\n",
    "\n",
    "flow_ds = df.to_xarray()\n",
    "flow_ds['water_year'] = flow_ds.datetime.dt.year.where(flow_ds.datetime.dt.month < 10, flow_ds.datetime.dt.year + 1)\n",
    "\n",
    "# compute mean daily flow for each WY\n",
    "# TODO make correction for missing periods\n",
    "flow_wy = flow_ds.groupby('water_year').mean()#.pint.quantify({'flow': 'cfs'})\n",
    "flow_wy['water_year'] = pd.to_datetime(flow_wy['water_year'], format='%Y').values\n",
    "flow_wy = flow_wy.rename({'water_year':'year'})\n",
    "\n",
    "\n",
    "# scale to ambient sites\n",
    "ambient_streamflow = compute_network_loads(flow_wy, ambient_network, nested=False)"
   ]
  },
  {
   "cell_type": "markdown",
   "id": "2da21ffc-22c9-42d1-a644-3ec875dd8a54",
   "metadata": {},
   "source": [
    "Timeseries of annual streamflow"
   ]
  },
  {
   "cell_type": "code",
   "execution_count": null,
   "id": "8bf96b47-ffee-476c-8fc8-a6191816d8d5",
   "metadata": {},
   "outputs": [],
   "source": [
    "# plot annual streamflow timeseries\n",
    "parameter='mean flow [cfs]'\n",
    "statewide_streamflow = ambient_streamflow[parameter].groupby('year').sum(dim='river')\n",
    "baseline_streamflow = statewide_streamflow.sel(year=ambient_loads.year.dt.year.isin(baseline_years)).mean()\n",
    "\n",
    "statewide_streamflow_p = statewide_streamflow / baseline_streamflow * 100 - 100\n",
    "\n",
    "fig, ax = plt.subplots(figsize=(fig_w, fig_h))\n",
    "\n",
    "running_average_plot(ds1=statewide_streamflow_p.assign_attrs({'label':'Ambient'}),\n",
    "                     period1=baseline_years,\n",
    "                     period2=study_years,\n",
    "                     loc='upper left',\n",
    "                     ax=ax)\n",
    "\n",
    "handles, labels = ax.get_legend_handles_labels()\n",
    "rf.legend(ax, handles, labels, bbox_to_anchor=(1.1, 0))\n",
    "\n",
    "text = ax.set_ylabel(f'Streamflow\\n[percentage above baseline]'.capitalize())\n",
    "fig.tight_layout()\n",
    "\n",
    "if save_figures:\n",
    "    fig_str = str(figure_count).rjust(2,'0')\n",
    "    fig.savefig(f'../figures/{fig_str}_annual_streamflow.png', dpi=150)\n",
    "    figure_count += 1 "
   ]
  },
  {
   "cell_type": "markdown",
   "id": "2a3c4c79-acf7-4f20-8f31-97ee0c840939",
   "metadata": {},
   "source": [
    "Change in streamflow yields by basin."
   ]
  },
  {
   "cell_type": "code",
   "execution_count": null,
   "id": "4715c0c9-663d-4ccf-90a4-8e475a70e35a",
   "metadata": {},
   "outputs": [],
   "source": [
    "# select streamflow for baseline and current timeperiods\n",
    "baseline_streamflow = ambient_streamflow.sel(year=ambient_streamflow.year.dt.year.isin(baseline_years))\n",
    "current_streamflow = ambient_streamflow.sel(year=ambient_streamflow.year.dt.year.isin(study_years))\n",
    "\n",
    "fig, ax = plt.subplots(figsize=(fig_w, fig_h))\n",
    "\n",
    "plot_change_by_basin(baseline_streamflow[parameter], \n",
    "                     current_streamflow[parameter], \n",
    "                     color='powderblue',\n",
    "                     ax=ax,\n",
    "                     statewide=False)\n",
    "\n",
    "ax.set_xticklabels([ label.get_text().replace(' at ','\\nat ') for label in ax.get_xticklabels()], rotation=60, ha='right')\n",
    "text = ax.set_ylabel(f'Change in streamflow\\n[percentage above baseline]'.capitalize())\n",
    "ax.set_xlabel('Location'.capitalize())\n",
    "fig.tight_layout()\n",
    "\n",
    "if save_figures:\n",
    "    fig_str = str(figure_count).rjust(2,'0')\n",
    "    fig.savefig(f'../figures/{fig_str}_streamflow_basin.png', dpi=150)\n",
    "    figure_count += 1 "
   ]
  },
  {
   "cell_type": "markdown",
   "id": "08871a4d-7e6f-40bd-96d3-46378de68b42",
   "metadata": {},
   "source": [
    "## Flow-adjusted loads\n",
    "Flow-adjusted nitrate loads by basin."
   ]
  },
  {
   "cell_type": "code",
   "execution_count": null,
   "id": "b8c3cc19-f5c4-43d9-8452-71cb459193ee",
   "metadata": {
    "tags": []
   },
   "outputs": [],
   "source": [
    "parameter = 'nitrate'\n",
    "fig, ax = plt.subplots(figsize=(fig_w, fig_h))\n",
    "\n",
    "total_streamflow = ambient_streamflow.sum(dim='river')['mean flow [cfs]']\n",
    "\n",
    "plot_change_by_basin(baseline_loads[parameter] / total_streamflow, \n",
    "                     current_loads[parameter] / total_streamflow, \n",
    "                     color='lightgreen', \n",
    "                     ax=ax, \n",
    "                     statewide=False)\n",
    "\n",
    "ax.set_xticklabels([ label.get_text().replace(' at ','\\nat ') for label in ax.get_xticklabels()], rotation=60, ha='right')\n",
    "\n",
    "text = ax.set_ylabel(f'Change in flow-adjusted {parameter} load\\n[percentage above baseline]'.capitalize())\n",
    "ax.set_xlabel('Location'.capitalize())\n",
    "fig.tight_layout()\n",
    "\n",
    "if save_figures:\n",
    "    fig_str = str(figure_count).rjust(2,'0')\n",
    "    fig.savefig(f'../figures/{fig_str}_{parameter}_basin_fa_yield.png', dpi=150)\n",
    "    figure_count += 1 "
   ]
  },
  {
   "cell_type": "markdown",
   "id": "ad6b4d47-37bc-4769-8565-39216bb32af2",
   "metadata": {},
   "source": [
    "Flow-adjusted phosphorus load by basin"
   ]
  },
  {
   "cell_type": "code",
   "execution_count": null,
   "id": "63271d66-8991-4cb6-b77f-55f47a19b31a",
   "metadata": {},
   "outputs": [],
   "source": [
    "parameter = 'phosphorus'\n",
    "fig, ax = plt.subplots(figsize=(fig_w, fig_h))\n",
    "\n",
    "plot_change_by_basin(baseline_loads[parameter] / total_streamflow, \n",
    "                     current_loads[parameter] / total_streamflow, \n",
    "                     color='lavender', \n",
    "                     ax=ax, \n",
    "                     statewide=False)\n",
    "\n",
    "ax.set_xticklabels([ label.get_text().replace(' at ','\\nat ') for label in ax.get_xticklabels()], rotation=60, ha='right')\n",
    "text = ax.set_ylabel(f'Change in flow-adjusted {parameter} load\\n[percentage above baseline]'.capitalize())\n",
    "ax.set_xlabel('Location'.capitalize())\n",
    "fig.tight_layout()\n",
    "\n",
    "if save_figures:\n",
    "    fig_str = str(figure_count).rjust(2,'0')\n",
    "    fig.savefig(f'../figures/{fig_str}_{parameter}_basin_fa_yield.png', dpi=150)\n",
    "    figure_count += 1 "
   ]
  },
  {
   "cell_type": "markdown",
   "id": "4a055418-e6a2-4ce8-8b39-88c62db230d0",
   "metadata": {},
   "source": [
    "## Summary\n",
    "1. Nitrate load increased 10%, primarily from the Rock River\n",
    "1. Phosphorus load increased 30%, primarily from the Illinois, Kaskaskia, and Little Wabash Rivers\n",
    "1. Streamflow increased 30% statewide\n",
    "1. Adjusting for streamflow, nitrate loads declined 10%\n",
    "1. Adjusting for streamflow, phosphorus is approximately at the baseline load\n",
    "\n",
    "\n",
    "## References\n",
    "U.S. Geological Survey, 2022, National Water Information System data available on the World Wide Web (USGS Water Data for the Nation), accessed [July 25, 2022], at URL [http://waterdata.usgs.gov/nwis/]."
   ]
  }
 ],
 "metadata": {
  "kernelspec": {
   "display_name": "Python 3 (ipykernel)",
   "language": "python",
   "name": "python3"
  },
  "language_info": {
   "codemirror_mode": {
    "name": "ipython",
    "version": 3
   },
   "file_extension": ".py",
   "mimetype": "text/x-python",
   "name": "python",
   "nbconvert_exporter": "python",
   "pygments_lexer": "ipython3",
   "version": "3.8.5"
  },
  "toc-showmarkdowntxt": false,
  "toc-showtags": false
 },
 "nbformat": 4,
 "nbformat_minor": 5
}
